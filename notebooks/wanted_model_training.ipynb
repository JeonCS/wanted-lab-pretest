{
  "nbformat": 4,
  "nbformat_minor": 0,
  "metadata": {
    "accelerator": "GPU",
    "colab": {
      "name": "wanted_model_training.ipynb",
      "provenance": [],
      "collapsed_sections": []
    },
    "kernelspec": {
      "display_name": "Python 3",
      "language": "python",
      "name": "python3"
    },
    "language_info": {
      "codemirror_mode": {
        "name": "ipython",
        "version": 3
      },
      "file_extension": ".py",
      "mimetype": "text/x-python",
      "name": "python",
      "nbconvert_exporter": "python",
      "pygments_lexer": "ipython3",
      "version": "3.9.5"
    }
  },
  "cells": [
    {
      "cell_type": "code",
      "metadata": {
        "colab": {
          "base_uri": "https://localhost:8080/"
        },
        "id": "bj1RYxP7rOSp",
        "outputId": "1c9ebaad-7e74-418c-b08f-4a0bc6a30937"
      },
      "source": [
        "from google.colab import drive\n",
        "drive.mount('/content/drive')"
      ],
      "execution_count": null,
      "outputs": [
        {
          "output_type": "stream",
          "text": [
            "Mounted at /content/drive\n"
          ],
          "name": "stdout"
        }
      ]
    },
    {
      "cell_type": "code",
      "metadata": {
        "colab": {
          "base_uri": "https://localhost:8080/"
        },
        "id": "tLL84P-8raqA",
        "outputId": "9a9442a8-e43d-40bd-9e65-c45945c87af5"
      },
      "source": [
        "path = \"drive/MyDrive/Colab\\ Notebooks/text_classification\"\n",
        "% cd $path\n",
        "! pwd"
      ],
      "execution_count": null,
      "outputs": [
        {
          "output_type": "stream",
          "text": [
            "/content/drive/MyDrive/Colab Notebooks/text_classification\n",
            "/content/drive/MyDrive/Colab Notebooks/text_classification\n"
          ],
          "name": "stdout"
        }
      ]
    },
    {
      "cell_type": "code",
      "metadata": {
        "colab": {
          "base_uri": "https://localhost:8080/"
        },
        "id": "VIP7zUTAqmbF",
        "outputId": "f21e2d75-e142-48ea-85c7-36f744e1eedb"
      },
      "source": [
        "! pip install konlpy"
      ],
      "execution_count": null,
      "outputs": [
        {
          "output_type": "stream",
          "text": [
            "Requirement already satisfied: konlpy in /usr/local/lib/python3.7/dist-packages (0.5.2)\n",
            "Requirement already satisfied: beautifulsoup4==4.6.0 in /usr/local/lib/python3.7/dist-packages (from konlpy) (4.6.0)\n",
            "Requirement already satisfied: numpy>=1.6 in /usr/local/lib/python3.7/dist-packages (from konlpy) (1.19.5)\n",
            "Requirement already satisfied: tweepy>=3.7.0 in /usr/local/lib/python3.7/dist-packages (from konlpy) (3.10.0)\n",
            "Requirement already satisfied: lxml>=4.1.0 in /usr/local/lib/python3.7/dist-packages (from konlpy) (4.2.6)\n",
            "Requirement already satisfied: colorama in /usr/local/lib/python3.7/dist-packages (from konlpy) (0.4.4)\n",
            "Requirement already satisfied: JPype1>=0.7.0 in /usr/local/lib/python3.7/dist-packages (from konlpy) (1.3.0)\n",
            "Requirement already satisfied: typing-extensions in /usr/local/lib/python3.7/dist-packages (from JPype1>=0.7.0->konlpy) (3.7.4.3)\n",
            "Requirement already satisfied: requests[socks]>=2.11.1 in /usr/local/lib/python3.7/dist-packages (from tweepy>=3.7.0->konlpy) (2.23.0)\n",
            "Requirement already satisfied: six>=1.10.0 in /usr/local/lib/python3.7/dist-packages (from tweepy>=3.7.0->konlpy) (1.15.0)\n",
            "Requirement already satisfied: requests-oauthlib>=0.7.0 in /usr/local/lib/python3.7/dist-packages (from tweepy>=3.7.0->konlpy) (1.3.0)\n",
            "Requirement already satisfied: oauthlib>=3.0.0 in /usr/local/lib/python3.7/dist-packages (from requests-oauthlib>=0.7.0->tweepy>=3.7.0->konlpy) (3.1.1)\n",
            "Requirement already satisfied: urllib3!=1.25.0,!=1.25.1,<1.26,>=1.21.1 in /usr/local/lib/python3.7/dist-packages (from requests[socks]>=2.11.1->tweepy>=3.7.0->konlpy) (1.24.3)\n",
            "Requirement already satisfied: chardet<4,>=3.0.2 in /usr/local/lib/python3.7/dist-packages (from requests[socks]>=2.11.1->tweepy>=3.7.0->konlpy) (3.0.4)\n",
            "Requirement already satisfied: certifi>=2017.4.17 in /usr/local/lib/python3.7/dist-packages (from requests[socks]>=2.11.1->tweepy>=3.7.0->konlpy) (2021.5.30)\n",
            "Requirement already satisfied: idna<3,>=2.5 in /usr/local/lib/python3.7/dist-packages (from requests[socks]>=2.11.1->tweepy>=3.7.0->konlpy) (2.10)\n",
            "Requirement already satisfied: PySocks!=1.5.7,>=1.5.6 in /usr/local/lib/python3.7/dist-packages (from requests[socks]>=2.11.1->tweepy>=3.7.0->konlpy) (1.7.1)\n"
          ],
          "name": "stdout"
        }
      ]
    },
    {
      "cell_type": "code",
      "metadata": {
        "colab": {
          "base_uri": "https://localhost:8080/"
        },
        "id": "9CJr2JJjxuh7",
        "outputId": "431e32e5-cca4-41ea-d75a-9a491997be74"
      },
      "source": [
        "!sudo apt-get install -y fonts-nanum\n",
        "!sudo fc-cache -fv\n",
        "!rm ~/.cache/matplotlib -rf"
      ],
      "execution_count": null,
      "outputs": [
        {
          "output_type": "stream",
          "text": [
            "Reading package lists... Done\n",
            "Building dependency tree       \n",
            "Reading state information... Done\n",
            "fonts-nanum is already the newest version (20170925-1).\n",
            "0 upgraded, 0 newly installed, 0 to remove and 40 not upgraded.\n",
            "/usr/share/fonts: caching, new cache contents: 0 fonts, 1 dirs\n",
            "/usr/share/fonts/truetype: caching, new cache contents: 0 fonts, 3 dirs\n",
            "/usr/share/fonts/truetype/humor-sans: caching, new cache contents: 1 fonts, 0 dirs\n",
            "/usr/share/fonts/truetype/liberation: caching, new cache contents: 16 fonts, 0 dirs\n",
            "/usr/share/fonts/truetype/nanum: caching, new cache contents: 10 fonts, 0 dirs\n",
            "/usr/local/share/fonts: caching, new cache contents: 0 fonts, 0 dirs\n",
            "/root/.local/share/fonts: skipping, no such directory\n",
            "/root/.fonts: skipping, no such directory\n",
            "/var/cache/fontconfig: cleaning cache directory\n",
            "/root/.cache/fontconfig: not cleaning non-existent cache directory\n",
            "/root/.fontconfig: not cleaning non-existent cache directory\n",
            "fc-cache: succeeded\n"
          ],
          "name": "stdout"
        }
      ]
    },
    {
      "cell_type": "code",
      "metadata": {
        "id": "8t-r8b2xqP9C"
      },
      "source": [
        "import json\n",
        "import pandas as pd\n",
        "import numpy as np\n",
        "from matplotlib import rc\n",
        "import matplotlib.pyplot as plt\n",
        "import matplotlib.font_manager as fm  # 폰트 관련 용도\n",
        "\n",
        "from konlpy.tag import Okt\n",
        "from collections import Counter\n",
        "import os.path\n",
        "import re\n",
        "import seaborn as sns\n",
        "%matplotlib inline\n",
        "\n",
        "plt.rc('font', family='NanumBarunGothic') "
      ],
      "execution_count": null,
      "outputs": []
    },
    {
      "cell_type": "code",
      "metadata": {
        "id": "SEgDNRc2qP9H"
      },
      "source": [
        "okt = Okt()\n",
        "# Preprocess Data\n",
        "def clean_words(x):\n",
        "    x = re.sub(r'^https?:\\/\\/.*[\\r\\n]*', '', x) # remove link\n",
        "    x = re.sub(r'[@%\\\\*=)~#&\\+á?\\xc3\\xa1\\-\\|\\.\\:\\;\\!\\-\\,\\_\\~\\$\\'\\\"\\•\\]]', '',x) #remove punctuation\n",
        "    # x = re.sub(r'[/(\\[]', ' ',x) # add a space with opening bracket or slash\n",
        "    # x = re.sub(r'\\b\\w\\b', '',x)\n",
        "    x = re.sub(r'\\s+', ' ', x) #remove spaces \n",
        "    x = re.sub(r\"^\\s+\", '', x) #remove space from start \n",
        "    x = re.sub(r'\\s+$', '', x) #remove space from the end\n",
        "    x = re.sub(r'\\d+','', x)# remove number \n",
        "    x = x.lower() #lower case \n",
        "    x = re.sub(r'<[^>]+>','', x) #remove Html tags \n",
        "    return x\n",
        "\n",
        "def split_text(x):\n",
        "    STOP_WORDS = [\"대한\", \"있는\", \"으로\", \"있으신\", \"하고\", \"또는\", \"에서\", \"하신\", \"하여\", \"합니다\", \"혹은\"]\n",
        "    x = clean_words(x)\n",
        "    x = okt.morphs(x)\n",
        "    x = list(set(x))\n",
        "    return [a for a in x if len(a) > 1 and a not in STOP_WORDS]"
      ],
      "execution_count": null,
      "outputs": []
    },
    {
      "cell_type": "code",
      "metadata": {
        "id": "3pHP64wfX-Px"
      },
      "source": [
        "df = pd.read_json(\"jd_7632.json\", encoding=\"utf-8\", dtype={\"wd_id\": int, \"position\": str, \"main_tasks\": str, \"requirements\" : str, \"preferred_points\": str, \"category\": str})\n",
        "feature_cols = [\"position\", \"main_tasks\", \"requirements\", \"preferred_points\"]\n",
        "label = [\"category\"]"
      ],
      "execution_count": null,
      "outputs": []
    },
    {
      "cell_type": "code",
      "metadata": {
        "id": "JL7seAYmW72U"
      },
      "source": [
        "df_clean = df.copy()\n",
        "df_clean[\"text_sum\"] = df_clean[feature_cols].sum(axis=1)\n",
        "df_clean[\"text_sum\"] = df_clean[\"text_sum\"].apply(clean_words)\n",
        "df_clean = df_clean[[\"text_sum\", \"category\"]]\n",
        "# bottleneck, takes ~3 mins for 8000 rows\n",
        "df_clean[\"text_sum_tokenized\"] = df_clean[\"text_sum\"].apply(split_text)"
      ],
      "execution_count": null,
      "outputs": []
    },
    {
      "cell_type": "code",
      "metadata": {
        "id": "JwiO0EGRqP9H"
      },
      "source": [
        "# luse_saved_file = False\n",
        "# if os.path.isfile('clean_df.csv'):\n",
        "#   df = pd.read_csv('clean_df.csv', usecols= [\"wd_id\", \"position\", \"main_tasks\", \"requirements\", \"preferred_points\", \"category\"])\n",
        "#   use_saved_file = True\n",
        "# else:\n",
        "#   df = pd.read_json(\"jd_7632.json\", encoding=\"utf-8\", dtype={\"wd_id\": int, \"position\": str, \"main_tasks\": str, \"requirements\" : str, \"preferred_points\": str, \"category\": str})\n",
        "# if not use_saved_file:\n",
        "#   for col in feature_cols:\n",
        "#   #   df[col] = df[col].apply(clean_words)\n",
        "#   # for col in feature_cols:\n",
        "#     df[col] = df[col].apply(split_text)\n",
        "#   df.to_csv('clean_df.csv')\n",
        "# else:\n",
        "#   for col in feature_cols:\n",
        "#     df[col] = df[col].apply(lambda x: x.replace(\"'\", \"\"))\n",
        "#     df[col] = df[col].apply(lambda x: x[1:-1].split(','))\n",
        "#     df[col] = df[col].apply(lambda x: [y.strip() for y in x])\n",
        "\n",
        "#     # df[col] = df[col].apply(lambda x: x.)\n"
      ],
      "execution_count": null,
      "outputs": []
    },
    {
      "cell_type": "code",
      "metadata": {
        "id": "GVLVR-UWqP9I"
      },
      "source": [
        "def plot_word_frequency_per_cat(df, n = 50, descending= True, colname=\"text_sum_tokenized\"):\n",
        "  cats = df.category.unique()\n",
        "  for cat in cats:\n",
        "    d = Counter(df.loc[df.category == cat][colname].sum()).most_common()\n",
        "    c =  d[:n] if descending else d[-n:]\n",
        "    cw = \"많이\" if descending else \"적게\"\n",
        "    word = [x[0] for x in c]\n",
        "    occ = [x[1] for x in c]\n",
        "    plt.figure(figsize=(30,10))\n",
        "    plt.title(f\"{cat}에 가장 {cw} 나타난 단어\")\n",
        "    plt.bar(word, occ, align=\"center\")\n",
        "    plt.show()\n",
        "\n",
        "\n",
        "def plot_len_per_cat(df):\n",
        "  # for cat in cats:\n",
        "  a = df.copy()\n",
        "  a[\"text_sum_tokenized\"] = a.text_sum_tokenized.apply(lambda x: len(x))\n",
        "  g = sns.displot(a, x=\"text_sum_tokenized\", hue=\"category\", multiple=\"stack\")\n",
        "  # g.set(xlim=(0,400))\n",
        "  plt.title(f\"게시글 카테고리 별 단어 수 분포도\")\n",
        "  plt.show(g)\n",
        "  # plt.legend()\n",
        "  # plt.xlabel('단어 수')\n",
        "  # plt.ylabel('샘플 수')\n",
        "  # plt.show()\n"
      ],
      "execution_count": null,
      "outputs": []
    },
    {
      "cell_type": "code",
      "metadata": {
        "colab": {
          "base_uri": "https://localhost:8080/"
        },
        "id": "o5-S7XnMYvkd",
        "outputId": "df576bed-45fc-45a1-a692-b1e2b50b02b2"
      },
      "source": [
        "max_text_len = max(len(l) for l in df_clean.text_sum_tokenized)\n",
        "average_text_len = sum(map(len, df_clean.text_sum_tokenized)) / len(df_clean)\n",
        "print(max_text_len, average_text_len)"
      ],
      "execution_count": null,
      "outputs": [
        {
          "output_type": "stream",
          "text": [
            "636 63.74764150943396\n"
          ],
          "name": "stdout"
        }
      ]
    },
    {
      "cell_type": "code",
      "metadata": {
        "colab": {
          "base_uri": "https://localhost:8080/",
          "height": 384
        },
        "id": "NnuaReWJlJn2",
        "outputId": "55dfcdd7-12a2-4616-8772-a49205220a05"
      },
      "source": [
        "plot_len_per_cat(df_clean)"
      ],
      "execution_count": null,
      "outputs": [
        {
          "output_type": "display_data",
          "data": {
            "image/png": "[encoded data removed]",
            "text/plain": [
              "<Figure size 454.5x360 with 1 Axes>"
            ]
          },
          "metadata": {
            "tags": [],
            "needs_background": "light"
          }
        }
      ]
    },
    {
      "cell_type": "code",
      "metadata": {
        "colab": {
          "base_uri": "https://localhost:8080/",
          "height": 1000
        },
        "id": "4gOAQ8xeCTjq",
        "outputId": "5d4d1d15-20c1-409e-a86b-d1b7fc1aeb83"
      },
      "source": [
        "plot_word_frequency_per_cat(df_clean, descending=True, n = 30)"
      ],
      "execution_count": null,
      "outputs": [
        {
          "output_type": "display_data",
          "data": {
            "image/png": "[encoded data removed]",
            "text/plain": [
              "<Figure size 2160x720 with 1 Axes>"
            ]
          },
          "metadata": {
            "tags": [],
            "needs_background": "light"
          }
        },
        {
          "output_type": "display_data",
          "data": {
            "image/png": "[encoded data removed]",
            "text/plain": [
              "<Figure size 2160x720 with 1 Axes>"
            ]
          },
          "metadata": {
            "tags": [],
            "needs_background": "light"
          }
        },
        {
          "output_type": "display_data",
          "data": {
            "image/png": "[encoded data removed]",
            "text/plain": [
              "<Figure size 2160x720 with 1 Axes>"
            ]
          },
          "metadata": {
            "tags": [],
            "needs_background": "light"
          }
        },
        {
          "output_type": "display_data",
          "data": {
            "image/png": "[encoded data removed]",
            "text/plain": [
              "<Figure size 2160x720 with 1 Axes>"
            ]
          },
          "metadata": {
            "tags": [],
            "needs_background": "light"
          }
        }
      ]
    },
    {
      "cell_type": "code",
      "metadata": {
        "id": "e5cLw3pzsTsb"
      },
      "source": [
        "from tensorflow.keras.models import Sequential\n",
        "from tensorflow.keras.layers import Dense, LSTM, Embedding, Conv1D, MaxPool1D, BatchNormalization, Activation\n",
        "from tensorflow.keras.preprocessing.sequence import pad_sequences\n",
        "from tensorflow.keras.preprocessing.text import Tokenizer\n",
        "from tensorflow.keras.utils import to_categorical\n",
        "from tensorflow.keras.callbacks import EarlyStopping, ModelCheckpoint\n",
        "from tensorflow.keras.models import load_model\n",
        "from tensorflow.keras.optimizers import Adam\n",
        "\n",
        "from sklearn.model_selection import train_test_split\n",
        "from sklearn.metrics import classification_report\n",
        "\n",
        "import pickle"
      ],
      "execution_count": null,
      "outputs": []
    },
    {
      "cell_type": "code",
      "metadata": {
        "id": "1VHjfhAWw4JT"
      },
      "source": [
        "sentences = df_clean.text_sum_tokenized.values\n",
        "data_y = to_categorical(df_clean.category.replace(cat_to_index).values)"
      ],
      "execution_count": null,
      "outputs": []
    },
    {
      "cell_type": "code",
      "metadata": {
        "colab": {
          "base_uri": "https://localhost:8080/"
        },
        "id": "aBRQweT4xdot",
        "outputId": "fe22e4e0-20d2-4877-cd02-105efc9677af"
      },
      "source": [
        "num_words = 5000\n",
        "tokenizer = Tokenizer(num_words= num_words, oov_token='oov')\n",
        "tokenizer.fit_on_texts(sentences)\n",
        "len_word_index = len(tokenizer.word_index)\n",
        "print(len_word_index)\n",
        "\n",
        "with open('tokenizer.pickle', 'wb') as handle:\n",
        "    pickle.dump(tokenizer, handle, protocol=pickle.HIGHEST_PROTOCOL)"
      ],
      "execution_count": null,
      "outputs": [
        {
          "output_type": "stream",
          "text": [
            "19087\n"
          ],
          "name": "stdout"
        }
      ]
    },
    {
      "cell_type": "code",
      "metadata": {
        "id": "MUjVig1m023X"
      },
      "source": [
        "data_X = np.array(tokenizer.texts_to_sequences(sentences), dtype=object)"
      ],
      "execution_count": null,
      "outputs": []
    },
    {
      "cell_type": "code",
      "metadata": {
        "id": "hh9XlUGN08x7"
      },
      "source": [
        "X_train, X_test, y_train, y_test = train_test_split(data_X, data_y, test_size=0.20, random_state=42)"
      ],
      "execution_count": null,
      "outputs": []
    },
    {
      "cell_type": "code",
      "metadata": {
        "colab": {
          "base_uri": "https://localhost:8080/"
        },
        "id": "Du1U5Xt63qdC",
        "outputId": "e959d89c-5cb8-4764-ee2b-5ca8258a138d"
      },
      "source": [
        "print( len(X_train), len(y_train), len(X_test), len(y_test))"
      ],
      "execution_count": null,
      "outputs": [
        {
          "output_type": "stream",
          "text": [
            "6105 6105 1527 1527\n"
          ],
          "name": "stdout"
        }
      ]
    },
    {
      "cell_type": "code",
      "metadata": {
        "id": "1oJBG3uP6nF9"
      },
      "source": [
        "max_len = 400\n",
        "X_train = pad_sequences(X_train, maxlen=max_len) # 훈련용 뉴스 기사 패딩\n",
        "X_test = pad_sequences(X_test, maxlen=max_len) # 테스트용 뉴스 기사 패딩"
      ],
      "execution_count": null,
      "outputs": []
    },
    {
      "cell_type": "code",
      "metadata": {
        "colab": {
          "base_uri": "https://localhost:8080/"
        },
        "id": "IRRZcQpo6zp3",
        "outputId": "6747116b-113c-42f4-cdbb-b4bcdccbfe9d"
      },
      "source": [
        "print(X_train.shape, y_train.shape, X_test.shape, y_test.shape)"
      ],
      "execution_count": null,
      "outputs": [
        {
          "output_type": "stream",
          "text": [
            "(6105, 400) (6105, 4) (1527, 400) (1527, 4)\n"
          ],
          "name": "stdout"
        }
      ]
    },
    {
      "cell_type": "code",
      "metadata": {
        "id": "Ib1asFaR6Rvf"
      },
      "source": [
        "model = Sequential()\n",
        "model.add(Embedding(num_words, 16))\n",
        "# model.add(Conv1D(filters=8, kernel_size=3, padding='same'))\n",
        "model.add(BatchNormalization())\n",
        "model.add(Activation(\"relu\"))\n",
        "model.add(MaxPool1D(pool_size=2))\n",
        "model.add(LSTM(16, dropout=0.2))\n",
        "\n",
        "model.add(Dense(4, activation='softmax'))\n",
        "es = EarlyStopping(monitor='val_loss', mode='min', verbose=1, patience=8)\n",
        "mc = ModelCheckpoint('best_model.h5', monitor='val_acc', mode='max', verbose=1, save_best_only=True)\n",
        "opt = Adam(learning_rate=3e-4)\n",
        "model.compile(loss='categorical_crossentropy', optimizer=opt, metrics=['acc'])"
      ],
      "execution_count": null,
      "outputs": []
    },
    {
      "cell_type": "code",
      "metadata": {
        "colab": {
          "base_uri": "https://localhost:8080/"
        },
        "id": "DF7me9766fjX",
        "outputId": "94ceba76-678f-4c4e-d4c4-a9ec0cb6ac48"
      },
      "source": [
        "model.summary()"
      ],
      "execution_count": null,
      "outputs": [
        {
          "output_type": "stream",
          "text": [
            "Model: \"sequential_35\"\n",
            "_________________________________________________________________\n",
            "Layer (type)                 Output Shape              Param #   \n",
            "=================================================================\n",
            "embedding_34 (Embedding)     (None, None, 16)          80000     \n",
            "_________________________________________________________________\n",
            "batch_normalization_30 (Batc (None, None, 16)          64        \n",
            "_________________________________________________________________\n",
            "activation_28 (Activation)   (None, None, 16)          0         \n",
            "_________________________________________________________________\n",
            "max_pooling1d_28 (MaxPooling (None, None, 16)          0         \n",
            "_________________________________________________________________\n",
            "lstm_33 (LSTM)               (None, 16)                2112      \n",
            "_________________________________________________________________\n",
            "dense_34 (Dense)             (None, 4)                 68        \n",
            "=================================================================\n",
            "Total params: 82,244\n",
            "Trainable params: 82,212\n",
            "Non-trainable params: 32\n",
            "_________________________________________________________________\n"
          ],
          "name": "stdout"
        }
      ]
    },
    {
      "cell_type": "code",
      "metadata": {
        "colab": {
          "base_uri": "https://localhost:8080/"
        },
        "id": "K1-uiC5_825v",
        "outputId": "f84c2be9-f322-42fc-b4ee-dea691a6c71b"
      },
      "source": [
        "history = model.fit(X_train, y_train, batch_size=64, epochs=50, callbacks=[es, mc], validation_data=(X_test, y_test))"
      ],
      "execution_count": null,
      "outputs": [
        {
          "output_type": "stream",
          "text": [
            "Epoch 1/50\n",
            "96/96 [==============================] - 6s 44ms/step - loss: 1.2676 - acc: 0.4503 - val_loss: 1.3529 - val_acc: 0.4361\n",
            "\n",
            "Epoch 00001: val_acc improved from -inf to 0.43615, saving model to best_model.h5\n",
            "Epoch 2/50\n",
            "96/96 [==============================] - 4s 38ms/step - loss: 1.0122 - acc: 0.5977 - val_loss: 1.2970 - val_acc: 0.5115\n",
            "\n",
            "Epoch 00002: val_acc improved from 0.43615 to 0.51146, saving model to best_model.h5\n",
            "Epoch 3/50\n",
            "96/96 [==============================] - 4s 38ms/step - loss: 0.7642 - acc: 0.6937 - val_loss: 1.1614 - val_acc: 0.6686\n",
            "\n",
            "Epoch 00003: val_acc improved from 0.51146 to 0.66863, saving model to best_model.h5\n",
            "Epoch 4/50\n",
            "96/96 [==============================] - 4s 38ms/step - loss: 0.6163 - acc: 0.7741 - val_loss: 0.9515 - val_acc: 0.8304\n",
            "\n",
            "Epoch 00004: val_acc improved from 0.66863 to 0.83039, saving model to best_model.h5\n",
            "Epoch 5/50\n",
            "96/96 [==============================] - 4s 38ms/step - loss: 0.5120 - acc: 0.8246 - val_loss: 0.6850 - val_acc: 0.8513\n",
            "\n",
            "Epoch 00005: val_acc improved from 0.83039 to 0.85134, saving model to best_model.h5\n",
            "Epoch 6/50\n",
            "96/96 [==============================] - 4s 38ms/step - loss: 0.4309 - acc: 0.8678 - val_loss: 0.5069 - val_acc: 0.8618\n",
            "\n",
            "Epoch 00006: val_acc improved from 0.85134 to 0.86182, saving model to best_model.h5\n",
            "Epoch 7/50\n",
            "96/96 [==============================] - 4s 38ms/step - loss: 0.3705 - acc: 0.8978 - val_loss: 0.4163 - val_acc: 0.8736\n",
            "\n",
            "Epoch 00007: val_acc improved from 0.86182 to 0.87361, saving model to best_model.h5\n",
            "Epoch 8/50\n",
            "96/96 [==============================] - 4s 39ms/step - loss: 0.3219 - acc: 0.9135 - val_loss: 0.3599 - val_acc: 0.8919\n",
            "\n",
            "Epoch 00008: val_acc improved from 0.87361 to 0.89195, saving model to best_model.h5\n",
            "Epoch 9/50\n",
            "96/96 [==============================] - 4s 38ms/step - loss: 0.2734 - acc: 0.9265 - val_loss: 0.3231 - val_acc: 0.9018\n",
            "\n",
            "Epoch 00009: val_acc improved from 0.89195 to 0.90177, saving model to best_model.h5\n",
            "Epoch 10/50\n",
            "96/96 [==============================] - 4s 38ms/step - loss: 0.2388 - acc: 0.9340 - val_loss: 0.3071 - val_acc: 0.9083\n",
            "\n",
            "Epoch 00010: val_acc improved from 0.90177 to 0.90832, saving model to best_model.h5\n",
            "Epoch 11/50\n",
            "96/96 [==============================] - 4s 38ms/step - loss: 0.2101 - acc: 0.9432 - val_loss: 0.2976 - val_acc: 0.9077\n",
            "\n",
            "Epoch 00011: val_acc did not improve from 0.90832\n",
            "Epoch 12/50\n",
            "96/96 [==============================] - 4s 38ms/step - loss: 0.1855 - acc: 0.9491 - val_loss: 0.2899 - val_acc: 0.9070\n",
            "\n",
            "Epoch 00012: val_acc did not improve from 0.90832\n",
            "Epoch 13/50\n",
            "96/96 [==============================] - 4s 38ms/step - loss: 0.1604 - acc: 0.9574 - val_loss: 0.2804 - val_acc: 0.9122\n",
            "\n",
            "Epoch 00013: val_acc improved from 0.90832 to 0.91225, saving model to best_model.h5\n",
            "Epoch 14/50\n",
            "96/96 [==============================] - 4s 38ms/step - loss: 0.1524 - acc: 0.9576 - val_loss: 0.2806 - val_acc: 0.9142\n",
            "\n",
            "Epoch 00014: val_acc improved from 0.91225 to 0.91421, saving model to best_model.h5\n",
            "Epoch 15/50\n",
            "96/96 [==============================] - 4s 38ms/step - loss: 0.1279 - acc: 0.9682 - val_loss: 0.2770 - val_acc: 0.9149\n",
            "\n",
            "Epoch 00015: val_acc improved from 0.91421 to 0.91487, saving model to best_model.h5\n",
            "Epoch 16/50\n",
            "96/96 [==============================] - 4s 38ms/step - loss: 0.1197 - acc: 0.9687 - val_loss: 0.2814 - val_acc: 0.9129\n",
            "\n",
            "Epoch 00016: val_acc did not improve from 0.91487\n",
            "Epoch 17/50\n",
            "96/96 [==============================] - 4s 38ms/step - loss: 0.1085 - acc: 0.9722 - val_loss: 0.2740 - val_acc: 0.9155\n",
            "\n",
            "Epoch 00017: val_acc improved from 0.91487 to 0.91552, saving model to best_model.h5\n",
            "Epoch 18/50\n",
            "96/96 [==============================] - 4s 38ms/step - loss: 0.1068 - acc: 0.9731 - val_loss: 0.2680 - val_acc: 0.9175\n",
            "\n",
            "Epoch 00018: val_acc improved from 0.91552 to 0.91749, saving model to best_model.h5\n",
            "Epoch 19/50\n",
            "96/96 [==============================] - 4s 39ms/step - loss: 0.0976 - acc: 0.9751 - val_loss: 0.2677 - val_acc: 0.9214\n",
            "\n",
            "Epoch 00019: val_acc improved from 0.91749 to 0.92141, saving model to best_model.h5\n",
            "Epoch 20/50\n",
            "96/96 [==============================] - 4s 39ms/step - loss: 0.0929 - acc: 0.9751 - val_loss: 0.2687 - val_acc: 0.9221\n",
            "\n",
            "Epoch 00020: val_acc improved from 0.92141 to 0.92207, saving model to best_model.h5\n",
            "Epoch 21/50\n",
            "96/96 [==============================] - 4s 39ms/step - loss: 0.0840 - acc: 0.9779 - val_loss: 0.2762 - val_acc: 0.9208\n",
            "\n",
            "Epoch 00021: val_acc did not improve from 0.92207\n",
            "Epoch 22/50\n",
            "96/96 [==============================] - 4s 38ms/step - loss: 0.0806 - acc: 0.9774 - val_loss: 0.2802 - val_acc: 0.9168\n",
            "\n",
            "Epoch 00022: val_acc did not improve from 0.92207\n",
            "Epoch 23/50\n",
            "96/96 [==============================] - 4s 39ms/step - loss: 0.0733 - acc: 0.9800 - val_loss: 0.2804 - val_acc: 0.9234\n",
            "\n",
            "Epoch 00023: val_acc improved from 0.92207 to 0.92338, saving model to best_model.h5\n",
            "Epoch 24/50\n",
            "96/96 [==============================] - 4s 39ms/step - loss: 0.0717 - acc: 0.9817 - val_loss: 0.2813 - val_acc: 0.9253\n",
            "\n",
            "Epoch 00024: val_acc improved from 0.92338 to 0.92534, saving model to best_model.h5\n",
            "Epoch 25/50\n",
            "96/96 [==============================] - 4s 38ms/step - loss: 0.0650 - acc: 0.9825 - val_loss: 0.2883 - val_acc: 0.9208\n",
            "\n",
            "Epoch 00025: val_acc did not improve from 0.92534\n",
            "Epoch 26/50\n",
            "96/96 [==============================] - 4s 38ms/step - loss: 0.0661 - acc: 0.9817 - val_loss: 0.2865 - val_acc: 0.9188\n",
            "\n",
            "Epoch 00026: val_acc did not improve from 0.92534\n",
            "Epoch 27/50\n",
            "96/96 [==============================] - 4s 38ms/step - loss: 0.0633 - acc: 0.9839 - val_loss: 0.2963 - val_acc: 0.9247\n",
            "\n",
            "Epoch 00027: val_acc did not improve from 0.92534\n",
            "Epoch 00027: early stopping\n"
          ],
          "name": "stdout"
        }
      ]
    },
    {
      "cell_type": "code",
      "metadata": {
        "colab": {
          "base_uri": "https://localhost:8080/"
        },
        "id": "492rl3pz85Pb",
        "outputId": "0668c38b-4d49-483d-aa43-75b7b01b4671"
      },
      "source": [
        "loaded_model = load_model('best_model.h5')\n",
        "print(\"\\n 테스트 정확도: %.4f\" % (loaded_model.evaluate(X_test, y_test)[1]))"
      ],
      "execution_count": null,
      "outputs": [
        {
          "output_type": "stream",
          "text": [
            "48/48 [==============================] - 1s 14ms/step - loss: 0.2813 - acc: 0.9253\n",
            "\n",
            " 테스트 정확도: 0.9253\n"
          ],
          "name": "stdout"
        }
      ]
    },
    {
      "cell_type": "code",
      "metadata": {
        "colab": {
          "base_uri": "https://localhost:8080/",
          "height": 294
        },
        "id": "56mmMNKO_mly",
        "outputId": "f0c24165-e70a-4184-ae55-0a9ae3622194"
      },
      "source": [
        "epochs = range(1, len(history.history['acc']) + 1)\n",
        "plt.plot(epochs, history.history['loss'])\n",
        "plt.plot(epochs, history.history['val_loss'])\n",
        "plt.title('model loss')\n",
        "plt.ylabel('loss')\n",
        "plt.xlabel('epoch')\n",
        "plt.legend(['train', 'test'], loc='upper left')\n",
        "plt.show()"
      ],
      "execution_count": null,
      "outputs": [
        {
          "output_type": "display_data",
          "data": {
            "image/png": "[encoded data removed]",
            "text/plain": [
              "<Figure size 432x288 with 1 Axes>"
            ]
          },
          "metadata": {
            "tags": [],
            "needs_background": "light"
          }
        }
      ]
    },
    {
      "cell_type": "code",
      "metadata": {
        "id": "sAfX6KIDz2n3"
      },
      "source": [
        "def predict_from_raw(text):\n",
        "  t = tokenizer.texts_to_sequences([text])\n",
        "  padded = pad_sequences(t, maxlen=max_len)\n",
        "  res =index_to_cat[np.argmax(loaded_model.predict(padded))]\n",
        "  return res"
      ],
      "execution_count": null,
      "outputs": []
    },
    {
      "cell_type": "code",
      "metadata": {
        "id": "mLqhL5JbAG6B"
      },
      "source": [
        "test1 = \"\"\"\n",
        "담당업무\n",
        "- 프론트엔드 코딩 및 개발\n",
        "- 셀립 입주마케팅을 위한 광고 페이지 퍼블리싱\n",
        "- 기획팀, 디자인팀, 마케팅 팀과의 협업을 통해 가장 효율적 시스템 구성\n",
        "\n",
        "자격요건\n",
        "- 경력 : 해당 분야 경력 3년 이상\n",
        "- HTML/CSS/Javascript(JQuery)/플러그인활용\n",
        "- 모바일 웹 및 반응형 웹 작업 경험자 \n",
        "- 웹표준 및 웹접근성, 크로스브라우징 \n",
        "\"\"\"\n"
      ],
      "execution_count": null,
      "outputs": []
    },
    {
      "cell_type": "code",
      "metadata": {
        "id": "YnUJ0sTIvbWa"
      },
      "source": [
        "design = \"\"\"\n",
        "[국내 광고대행사] 디자이너 채용 (사원~대리급)\n",
        "* 국내 광고대행사에서 디자이너를 채용 중에 있습니다.\n",
        "[담당업무]\n",
        "- 고객사 캠페인 관련 전반적인 디자인 (캠페인 페이지, 배너 등)\n",
        "- 디자인 운영 및 유지관리\n",
        "- 그래픽 및 서비스 디자인\n",
        "- 유관업무 2~3년 이상 경력자\n",
        "- 디자인 툴 사용이 능숙하신 분 (Photoshop, Illustrator 등)\n",
        "- 그래픽, 일러스트 등 비주얼 제작에 탁월한 감각인 있는 분\n",
        "- 원활한 커뮤니케이션 능력 및 유연한 사고 보유자\n",
        "- 에이전시 경력자 우대\n",
        "\"\"\"\n",
        "\n",
        "pm = \"\"\"\n",
        "서비스 기획/PM\n",
        "Web, Mobile 서비스 기획 업무를 수행하며 개발자 및 UI/UX디자이너, CS담당자, 마케팅 담당자를 포함한 구성원들과 협업합니다.\n",
        "\n",
        "고객 Needs 데이터를 수집, 분석하여 해당 데이터를 바탕으로 서비스의 개발 방향 및 일정을 수립합니다.\n",
        "\n",
        "업무 수행에 필요하다고 판단되거나 업무 수행을 위하여 요청하는 모든 권한을 적극적으로 할당해 드립니다.\n",
        "ㆍWeb, Mobile 서비스 기획\n",
        "ㆍ스토리보드 작성\n",
        "ㆍ서비스 및 정책 수립\n",
        "ㆍ플랫폼 기획\n",
        "ㆍ사용자 Needs 데이터 수집 및 분석\n",
        "ㆍ서비스 세부 기획\n",
        "ㆍ와이어프레임 및 스토리보드 작성\n",
        "ㆍ경력 : 경력 2년 이상\n",
        "ㆍ모바일 또는 플랫폼 서비스기획/PM 경력자\n",
        "ㆍ효과적인 커뮤니케이션 능력자 우대\n",
        "ㆍ기획 출시, 성장을 경험한 자 우대\n",
        "\"\"\""
      ],
      "execution_count": null,
      "outputs": []
    },
    {
      "cell_type": "code",
      "metadata": {
        "colab": {
          "base_uri": "https://localhost:8080/",
          "height": 35
        },
        "id": "cNQolYwD0FzD",
        "outputId": "4648ef81-ee21-4d14-a98a-9e7f5db1d2cf"
      },
      "source": [
        "predict_from_raw(test1)"
      ],
      "execution_count": null,
      "outputs": [
        {
          "output_type": "execute_result",
          "data": {
            "application/vnd.google.colaboratory.intrinsic+json": {
              "type": "string"
            },
            "text/plain": [
              "'개발'"
            ]
          },
          "metadata": {
            "tags": []
          },
          "execution_count": 361
        }
      ]
    }
  ]
}